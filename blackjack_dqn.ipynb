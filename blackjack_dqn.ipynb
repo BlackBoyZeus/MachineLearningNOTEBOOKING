{
  "nbformat": 4,
  "nbformat_minor": 0,
  "metadata": {
    "colab": {
      "name": "Copy of blackjack_dqn.ipynb",
      "provenance": [],
      "gpuType": "T4",
      "include_colab_link": true
    },
    "kernelspec": {
      "name": "python3",
      "display_name": "Python 3"
    },
    "accelerator": "GPU"
  },
  "cells": [
    {
      "cell_type": "markdown",
      "metadata": {
        "id": "view-in-github",
        "colab_type": "text"
      },
      "source": [
        "<a href=\"https://colab.research.google.com/github/BlackBoyZeus/visionconsult/blob/main/blackjack_dqn.ipynb\" target=\"_parent\"><img src=\"https://colab.research.google.com/assets/colab-badge.svg\" alt=\"Open In Colab\"/></a>"
      ]
    },
    {
      "cell_type": "markdown",
      "metadata": {
        "id": "miBl4S8JARzX"
      },
      "source": [
        "\n",
        "\n",
        "# <a href='https://github.com/datamllab/rlcard'> <center> <img src='https://miro.medium.com/max/1000/1*_9abDpNTM9Cbsd2HEXYm9Q.png' width=500 class='center' /></a>\n",
        "\n",
        "## **Deep-Q Learning on Blackjack**\n",
        "This example is to use Deep-Q learning to train an agent on Blackjack. We aim to use this example to show how reinforcement learning algorithms can be developed and applied in our toolkit. To be self-contained, we first install RLCard."
      ]
    },
    {
      "cell_type": "code",
      "metadata": {
        "id": "zQ8CiXAJjQGi",
        "outputId": "df8041d6-9b05-474d-e1fc-f11fbf59527f",
        "colab": {
          "base_uri": "https://localhost:8080/"
        }
      },
      "source": [
        "!pip install rlcard[torch]"
      ],
      "execution_count": 1,
      "outputs": [
        {
          "output_type": "stream",
          "name": "stdout",
          "text": [
            "Collecting rlcard[torch]\n",
            "  Downloading rlcard-1.2.0.tar.gz (269 kB)\n",
            "\u001b[?25l     \u001b[90m━━━━━━━━━━━━━━━━━━━━━━━━━━━━━━━━━━━━━━━━\u001b[0m \u001b[32m0.0/269.0 kB\u001b[0m \u001b[31m?\u001b[0m eta \u001b[36m-:--:--\u001b[0m\r\u001b[2K     \u001b[91m━━━━━━━━━━━━━━━━━━━━━━━━━━━━━━━━━━━━━━━\u001b[0m\u001b[91m╸\u001b[0m \u001b[32m266.2/269.0 kB\u001b[0m \u001b[31m46.8 MB/s\u001b[0m eta \u001b[36m0:00:01\u001b[0m\r\u001b[2K     \u001b[91m━━━━━━━━━━━━━━━━━━━━━━━━━━━━━━━━━━━━━━━\u001b[0m\u001b[91m╸\u001b[0m \u001b[32m266.2/269.0 kB\u001b[0m \u001b[31m46.8 MB/s\u001b[0m eta \u001b[36m0:00:01\u001b[0m\r\u001b[2K     \u001b[91m━━━━━━━━━━━━━━━━━━━━━━━━━━━━━━━━━━━━━━━\u001b[0m\u001b[91m╸\u001b[0m \u001b[32m266.2/269.0 kB\u001b[0m \u001b[31m46.8 MB/s\u001b[0m eta \u001b[36m0:00:01\u001b[0m\r\u001b[2K     \u001b[91m━━━━━━━━━━━━━━━━━━━━━━━━━━━━━━━━━━━━━━━\u001b[0m\u001b[91m╸\u001b[0m \u001b[32m266.2/269.0 kB\u001b[0m \u001b[31m46.8 MB/s\u001b[0m eta \u001b[36m0:00:01\u001b[0m\r\u001b[2K     \u001b[90m━━━━━━━━━━━━━━━━━━━━━━━━━━━━━━━━━━━━━━━━\u001b[0m \u001b[32m269.0/269.0 kB\u001b[0m \u001b[31m1.5 MB/s\u001b[0m eta \u001b[36m0:00:00\u001b[0m\n",
            "\u001b[?25h  Preparing metadata (setup.py) ... \u001b[?25l\u001b[?25hdone\n",
            "Requirement already satisfied: numpy>=1.16.3 in /usr/local/lib/python3.10/dist-packages (from rlcard[torch]) (1.26.4)\n",
            "Requirement already satisfied: termcolor in /usr/local/lib/python3.10/dist-packages (from rlcard[torch]) (2.4.0)\n",
            "Requirement already satisfied: torch in /usr/local/lib/python3.10/dist-packages (from rlcard[torch]) (2.4.1+cu121)\n",
            "Collecting GitPython (from rlcard[torch])\n",
            "  Downloading GitPython-3.1.43-py3-none-any.whl.metadata (13 kB)\n",
            "Collecting gitdb2 (from rlcard[torch])\n",
            "  Downloading gitdb2-4.0.2-py3-none-any.whl.metadata (383 bytes)\n",
            "Requirement already satisfied: matplotlib in /usr/local/lib/python3.10/dist-packages (from rlcard[torch]) (3.7.1)\n",
            "Collecting gitdb>=4.0.1 (from gitdb2->rlcard[torch])\n",
            "  Downloading gitdb-4.0.11-py3-none-any.whl.metadata (1.2 kB)\n",
            "Requirement already satisfied: contourpy>=1.0.1 in /usr/local/lib/python3.10/dist-packages (from matplotlib->rlcard[torch]) (1.3.0)\n",
            "Requirement already satisfied: cycler>=0.10 in /usr/local/lib/python3.10/dist-packages (from matplotlib->rlcard[torch]) (0.12.1)\n",
            "Requirement already satisfied: fonttools>=4.22.0 in /usr/local/lib/python3.10/dist-packages (from matplotlib->rlcard[torch]) (4.53.1)\n",
            "Requirement already satisfied: kiwisolver>=1.0.1 in /usr/local/lib/python3.10/dist-packages (from matplotlib->rlcard[torch]) (1.4.7)\n",
            "Requirement already satisfied: packaging>=20.0 in /usr/local/lib/python3.10/dist-packages (from matplotlib->rlcard[torch]) (24.1)\n",
            "Requirement already satisfied: pillow>=6.2.0 in /usr/local/lib/python3.10/dist-packages (from matplotlib->rlcard[torch]) (10.4.0)\n",
            "Requirement already satisfied: pyparsing>=2.3.1 in /usr/local/lib/python3.10/dist-packages (from matplotlib->rlcard[torch]) (3.1.4)\n",
            "Requirement already satisfied: python-dateutil>=2.7 in /usr/local/lib/python3.10/dist-packages (from matplotlib->rlcard[torch]) (2.8.2)\n",
            "Requirement already satisfied: filelock in /usr/local/lib/python3.10/dist-packages (from torch->rlcard[torch]) (3.16.1)\n",
            "Requirement already satisfied: typing-extensions>=4.8.0 in /usr/local/lib/python3.10/dist-packages (from torch->rlcard[torch]) (4.12.2)\n",
            "Requirement already satisfied: sympy in /usr/local/lib/python3.10/dist-packages (from torch->rlcard[torch]) (1.13.2)\n",
            "Requirement already satisfied: networkx in /usr/local/lib/python3.10/dist-packages (from torch->rlcard[torch]) (3.3)\n",
            "Requirement already satisfied: jinja2 in /usr/local/lib/python3.10/dist-packages (from torch->rlcard[torch]) (3.1.4)\n",
            "Requirement already satisfied: fsspec in /usr/local/lib/python3.10/dist-packages (from torch->rlcard[torch]) (2024.6.1)\n",
            "Collecting smmap<6,>=3.0.1 (from gitdb>=4.0.1->gitdb2->rlcard[torch])\n",
            "  Downloading smmap-5.0.1-py3-none-any.whl.metadata (4.3 kB)\n",
            "Requirement already satisfied: six>=1.5 in /usr/local/lib/python3.10/dist-packages (from python-dateutil>=2.7->matplotlib->rlcard[torch]) (1.16.0)\n",
            "Requirement already satisfied: MarkupSafe>=2.0 in /usr/local/lib/python3.10/dist-packages (from jinja2->torch->rlcard[torch]) (2.1.5)\n",
            "Requirement already satisfied: mpmath<1.4,>=1.1.0 in /usr/local/lib/python3.10/dist-packages (from sympy->torch->rlcard[torch]) (1.3.0)\n",
            "Downloading gitdb2-4.0.2-py3-none-any.whl (1.1 kB)\n",
            "Downloading GitPython-3.1.43-py3-none-any.whl (207 kB)\n",
            "\u001b[2K   \u001b[90m━━━━━━━━━━━━━━━━━━━━━━━━━━━━━━━━━━━━━━━━\u001b[0m \u001b[32m207.3/207.3 kB\u001b[0m \u001b[31m18.9 MB/s\u001b[0m eta \u001b[36m0:00:00\u001b[0m\n",
            "\u001b[?25hDownloading gitdb-4.0.11-py3-none-any.whl (62 kB)\n",
            "\u001b[2K   \u001b[90m━━━━━━━━━━━━━━━━━━━━━━━━━━━━━━━━━━━━━━━━\u001b[0m \u001b[32m62.7/62.7 kB\u001b[0m \u001b[31m5.0 MB/s\u001b[0m eta \u001b[36m0:00:00\u001b[0m\n",
            "\u001b[?25hDownloading smmap-5.0.1-py3-none-any.whl (24 kB)\n",
            "Building wheels for collected packages: rlcard\n",
            "  Building wheel for rlcard (setup.py) ... \u001b[?25l\u001b[?25hdone\n",
            "  Created wheel for rlcard: filename=rlcard-1.2.0-py3-none-any.whl size=325795 sha256=3f6ec941a3548acad24f5e4a55b78a267baf41bd706467b3876a3817478240d4\n",
            "  Stored in directory: /root/.cache/pip/wheels/a5/0a/39/26d73b035027276e526bec94b0217ed799109d7890c34a7d9b\n",
            "Successfully built rlcard\n",
            "Installing collected packages: smmap, rlcard, gitdb, GitPython, gitdb2\n",
            "Successfully installed GitPython-3.1.43 gitdb-4.0.11 gitdb2-4.0.2 rlcard-1.2.0 smmap-5.0.1\n"
          ]
        }
      ]
    },
    {
      "cell_type": "markdown",
      "source": [
        "Now we import `rlcard` and `DQNAgent`. The `DQNAgent` will learn how to win the game."
      ],
      "metadata": {
        "id": "2bt-JVoXyTwM"
      }
    },
    {
      "cell_type": "code",
      "metadata": {
        "id": "4_A_Br3Jj0xW"
      },
      "source": [
        "import rlcard\n",
        "from rlcard.agents import DQNAgent"
      ],
      "execution_count": 2,
      "outputs": []
    },
    {
      "cell_type": "markdown",
      "metadata": {
        "id": "N2ltkfinYmiU"
      },
      "source": [
        "Let's create the Blackjack environment and take a look at it."
      ]
    },
    {
      "cell_type": "code",
      "metadata": {
        "id": "l_8Kuf47kghG",
        "colab": {
          "base_uri": "https://localhost:8080/"
        },
        "outputId": "3dc9ca2a-0812-4d99-ad40-aa6b596a6429"
      },
      "source": [
        "env = rlcard.make(\"blackjack\")\n",
        "print(\"Number of actions:\", env.num_actions)\n",
        "print(\"Number of players:\", env.num_players)\n",
        "print(\"Shape of state:\", env.state_shape)\n",
        "print(\"Shape of action:\", env.action_shape)"
      ],
      "execution_count": 3,
      "outputs": [
        {
          "output_type": "stream",
          "name": "stdout",
          "text": [
            "Number of actions: 2\n",
            "Number of players: 1\n",
            "Shape of state: [[2]]\n",
            "Shape of action: [None]\n"
          ]
        }
      ]
    },
    {
      "cell_type": "markdown",
      "source": [
        "Blackjack is a very simple game with only two possible actions. There is only one player. It's time for us to train our DQN to master this game! We first create a DQNAgent."
      ],
      "metadata": {
        "id": "W2vJYyyqzVj3"
      }
    },
    {
      "cell_type": "code",
      "metadata": {
        "id": "8bqfMncnJTYU"
      },
      "source": [
        "agent = DQNAgent(\n",
        "    num_actions=env.num_actions,\n",
        "    state_shape=env.state_shape[0],\n",
        "    mlp_layers=[64,64],\n",
        ")"
      ],
      "execution_count": 4,
      "outputs": []
    },
    {
      "cell_type": "markdown",
      "source": [
        "Here, we use a 64-64 deep neural network to learn. Then we pass the DQNAgent to the environment."
      ],
      "metadata": {
        "id": "tJVGcqYhzvyG"
      }
    },
    {
      "cell_type": "code",
      "source": [
        "env.set_agents([agent])"
      ],
      "metadata": {
        "id": "5JEwJb_Oztut"
      },
      "execution_count": 5,
      "outputs": []
    },
    {
      "cell_type": "markdown",
      "source": [
        "Now we are ready to train! We first import some useful classes and functions for training."
      ],
      "metadata": {
        "id": "zy_sHLKf0TVl"
      }
    },
    {
      "cell_type": "code",
      "metadata": {
        "id": "GhgGYyick13x"
      },
      "source": [
        "from rlcard.utils import (\n",
        "    tournament,\n",
        "    reorganize,\n",
        "    Logger,\n",
        "    plot_curve,\n",
        ")"
      ],
      "execution_count": 6,
      "outputs": []
    },
    {
      "cell_type": "markdown",
      "source": [
        "Then start the training and log the performance with our `Logger`. The script below will train DQN for 1000 epochs (i.e., 1000 games). Usually, the agent will become stronger if trained longer."
      ],
      "metadata": {
        "id": "w2bT6ETj04Hq"
      }
    },
    {
      "cell_type": "code",
      "metadata": {
        "id": "rYAj8Q22k5e2",
        "outputId": "2abb6678-48ac-4cfe-cd60-8344ded8d993",
        "colab": {
          "base_uri": "https://localhost:8080/"
        }
      },
      "source": [
        "with Logger(\"experiments/leduc_holdem_dqn_result/\") as logger:\n",
        "    for episode in range(1000):\n",
        "\n",
        "        # Generate data from the environment\n",
        "        trajectories, payoffs = env.run(is_training=True)\n",
        "\n",
        "        # Reorganaize the data to be state, action, reward, next_state, done\n",
        "        trajectories = reorganize(trajectories, payoffs)\n",
        "\n",
        "        # Feed transitions into agent memory, and train the agent\n",
        "        for ts in trajectories[0]:\n",
        "            agent.feed(ts)\n",
        "\n",
        "        # Evaluate the performance.\n",
        "        if episode % 50 == 0:\n",
        "            logger.log_performance(\n",
        "                env.timestep,\n",
        "                tournament(\n",
        "                    env,\n",
        "                    10000,\n",
        "                )[0]\n",
        "            )\n",
        "\n",
        "    # Get the paths\n",
        "    csv_path, fig_path = logger.csv_path, logger.fig_path"
      ],
      "execution_count": 7,
      "outputs": [
        {
          "output_type": "stream",
          "name": "stdout",
          "text": [
            "\n",
            "----------------------------------------\n",
            "  episode      |  1\n",
            "  reward       |  -0.6696\n",
            "----------------------------------------\n",
            "\n",
            "----------------------------------------\n",
            "  episode      |  13590\n",
            "  reward       |  -0.6791\n",
            "----------------------------------------\n",
            "INFO - Step 100, rl-loss: 0.8336511850357056\n",
            "INFO - Copied model parameters to target network.\n",
            "INFO - Step 138, rl-loss: 0.5771713256835938\n",
            "----------------------------------------\n",
            "  episode      |  27243\n",
            "  reward       |  -0.7332\n",
            "----------------------------------------\n",
            "INFO - Step 206, rl-loss: 0.5373709797859192\n",
            "----------------------------------------\n",
            "  episode      |  40563\n",
            "  reward       |  -0.1745\n",
            "----------------------------------------\n",
            "INFO - Step 276, rl-loss: 0.5375340580940247\n",
            "----------------------------------------\n",
            "  episode      |  50633\n",
            "  reward       |  -0.1793\n",
            "----------------------------------------\n",
            "INFO - Step 341, rl-loss: 0.3247154951095581\n",
            "----------------------------------------\n",
            "  episode      |  60698\n",
            "  reward       |  -0.1745\n",
            "----------------------------------------\n",
            "INFO - Step 412, rl-loss: 0.3582991361618042\n",
            "----------------------------------------\n",
            "  episode      |  70938\n",
            "  reward       |  -0.1836\n",
            "----------------------------------------\n",
            "INFO - Step 483, rl-loss: 0.4829838275909424\n",
            "----------------------------------------\n",
            "  episode      |  81658\n",
            "  reward       |  -0.1411\n",
            "----------------------------------------\n",
            "INFO - Step 552, rl-loss: 0.41907739639282227\n",
            "----------------------------------------\n",
            "  episode      |  92943\n",
            "  reward       |  -0.1364\n",
            "----------------------------------------\n",
            "INFO - Step 621, rl-loss: 0.3000231087207794\n",
            "----------------------------------------\n",
            "  episode      |  104718\n",
            "  reward       |  -0.1315\n",
            "----------------------------------------\n",
            "INFO - Step 693, rl-loss: 0.3204284906387329\n",
            "----------------------------------------\n",
            "  episode      |  116628\n",
            "  reward       |  -0.1269\n",
            "----------------------------------------\n",
            "INFO - Step 757, rl-loss: 0.45232778787612915\n",
            "----------------------------------------\n",
            "  episode      |  128398\n",
            "  reward       |  -0.1553\n",
            "----------------------------------------\n",
            "INFO - Step 828, rl-loss: 0.36130380630493164\n",
            "----------------------------------------\n",
            "  episode      |  139766\n",
            "  reward       |  -0.1383\n",
            "----------------------------------------\n",
            "INFO - Step 895, rl-loss: 0.3333558440208435\n",
            "----------------------------------------\n",
            "  episode      |  151414\n",
            "  reward       |  -0.121\n",
            "----------------------------------------\n",
            "INFO - Step 964, rl-loss: 0.4260959029197693\n",
            "----------------------------------------\n",
            "  episode      |  163309\n",
            "  reward       |  -0.1157\n",
            "----------------------------------------\n",
            "INFO - Step 1031, rl-loss: 0.27985188364982605\n",
            "----------------------------------------\n",
            "  episode      |  175015\n",
            "  reward       |  -0.1249\n",
            "----------------------------------------\n",
            "INFO - Step 1098, rl-loss: 0.4741794466972351\n",
            "----------------------------------------\n",
            "  episode      |  186693\n",
            "  reward       |  -0.1347\n",
            "----------------------------------------\n",
            "INFO - Step 1100, rl-loss: 0.5365921258926392\n",
            "INFO - Copied model parameters to target network.\n",
            "INFO - Step 1171, rl-loss: 0.46536505222320557\n",
            "----------------------------------------\n",
            "  episode      |  198366\n",
            "  reward       |  -0.0928\n",
            "----------------------------------------\n",
            "INFO - Step 1245, rl-loss: 0.5893718004226685\n",
            "----------------------------------------\n",
            "  episode      |  211591\n",
            "  reward       |  -0.0894\n",
            "----------------------------------------\n",
            "INFO - Step 1314, rl-loss: 0.37911415100097656\n",
            "----------------------------------------\n",
            "  episode      |  225081\n",
            "  reward       |  -0.0783\n",
            "----------------------------------------\n",
            "INFO - Step 1388, rl-loss: 0.514920711517334\n",
            "Logs saved in experiments/leduc_holdem_dqn_result/\n"
          ]
        }
      ]
    },
    {
      "cell_type": "markdown",
      "source": [
        "Now we plot the learning curves to monitor how the agent gets improved!"
      ],
      "metadata": {
        "id": "rbIiQS3K2R0u"
      }
    },
    {
      "cell_type": "code",
      "metadata": {
        "id": "06n2QSTDIqb0",
        "outputId": "27572db3-52b3-400f-8f97-4886a5ec28d3",
        "colab": {
          "base_uri": "https://localhost:8080/",
          "height": 449
        }
      },
      "source": [
        "plot_curve(csv_path, fig_path, \"DQN\")"
      ],
      "execution_count": 8,
      "outputs": [
        {
          "output_type": "display_data",
          "data": {
            "text/plain": [
              "<Figure size 640x480 with 1 Axes>"
            ],
            "image/png": "[encoded data removed]"
          },
          "metadata": {}
        }
      ]
    },
    {
      "cell_type": "markdown",
      "metadata": {
        "id": "rtJ7xdSIaPw3"
      },
      "source": [
        "You can find that the agent achieves an increasingly better performance with more training. All the logs and the model weights are saved in `experiments/leduc_holdem_dqn_result/`. Now you have your trained DQN agent on Blackjack!"
      ]
    }
  ]
}